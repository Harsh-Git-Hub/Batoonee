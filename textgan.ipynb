{
  "nbformat": 4,
  "nbformat_minor": 0,
  "metadata": {
    "colab": {
      "name": "textgan.ipynb",
      "provenance": [],
      "collapsed_sections": [],
      "authorship_tag": "ABX9TyMl+t2pAxurP72yiiqg0Gid",
      "include_colab_link": true
    },
    "kernelspec": {
      "name": "python3",
      "display_name": "Python 3"
    }
  },
  "cells": [
    {
      "cell_type": "markdown",
      "metadata": {
        "id": "view-in-github",
        "colab_type": "text"
      },
      "source": [
        "<a href=\"https://colab.research.google.com/github/Harsh-Git-Hub/Batoonee/blob/dev/textgan.ipynb\" target=\"_parent\"><img src=\"https://colab.research.google.com/assets/colab-badge.svg\" alt=\"Open In Colab\"/></a>"
      ]
    },
    {
      "cell_type": "markdown",
      "metadata": {
        "id": "o8OSvSjxMdOs"
      },
      "source": [
        "#Imports"
      ]
    },
    {
      "cell_type": "code",
      "metadata": {
        "colab": {
          "base_uri": "https://localhost:8080/"
        },
        "id": "0-X_X_aQOesp",
        "outputId": "b2561204-f85c-43c5-e694-bfc30570af7f"
      },
      "source": [
        "!pip install tensorflow-addons"
      ],
      "execution_count": null,
      "outputs": [
        {
          "output_type": "stream",
          "text": [
            "Requirement already satisfied: tensorflow-addons in /usr/local/lib/python3.7/dist-packages (0.12.1)\n",
            "Requirement already satisfied: typeguard>=2.7 in /usr/local/lib/python3.7/dist-packages (from tensorflow-addons) (2.7.1)\n"
          ],
          "name": "stdout"
        }
      ]
    },
    {
      "cell_type": "code",
      "metadata": {
        "id": "k3PrtalZHKyi"
      },
      "source": [
        "import numpy as np\r\n",
        "import tensorflow as tf\r\n",
        "import tensorflow_datasets as tfds\r\n",
        "import tensorflow_addons as tfa\r\n",
        "from tensorflow.python.client import device_lib\r\n",
        "\r\n",
        "import matplotlib.pyplot as plt\r\n",
        "import seaborn as sns\r\n",
        "\r\n",
        "import string, re\r\n",
        "import os\r\n",
        "import time\r\n",
        "from datetime import date\r\n",
        "import unicodedata"
      ],
      "execution_count": null,
      "outputs": []
    },
    {
      "cell_type": "markdown",
      "metadata": {
        "id": "kpH2XNS8MbZl"
      },
      "source": [
        "#Utils"
      ]
    },
    {
      "cell_type": "code",
      "metadata": {
        "colab": {
          "base_uri": "https://localhost:8080/"
        },
        "id": "1dtK2-zSHf11",
        "outputId": "304fca5c-d960-4c4f-8c4e-8733578cad07"
      },
      "source": [
        "def is_gpu_available():\r\n",
        "    # return len(device_lib.list_local_devices()) > 0\r\n",
        "    return False\r\n",
        "    \r\n",
        "print(is_gpu_available())\r\n",
        "\r\n",
        "def visualize_gan_loss(gan_history):\r\n",
        "    fig, ax = plt.subplots(1, 2, figsize=(12, 4.5), sharex=True)\r\n",
        "    ax[0].plot(gan_history.history[\"gen_loss\"])\r\n",
        "    ax[0].grid()\r\n",
        "    ax[0].set_title(\"Generator Loss\", fontdict={\"size\":14})\r\n",
        "\r\n",
        "    ax[1].plot(gan_history.history[\"disc_loss\"])\r\n",
        "    ax[1].grid()\r\n",
        "    ax[1].set_title(\"Discriminator Loss\", fontdict={\"size\":14})\r\n",
        "\r\n",
        "    fig.text(x=0.5, y=0.01, s=\"Epochs\")\r\n",
        "\r\n",
        "    fig.tight_layout()"
      ],
      "execution_count": null,
      "outputs": [
        {
          "output_type": "stream",
          "text": [
            "False\n"
          ],
          "name": "stdout"
        }
      ]
    },
    {
      "cell_type": "markdown",
      "metadata": {
        "id": "1cFmd1dUHi4X"
      },
      "source": [
        "#Dataset Handler"
      ]
    },
    {
      "cell_type": "code",
      "metadata": {
        "id": "faswv7VcHfvF"
      },
      "source": [
        "class DatasetHandler:\r\n",
        "    def __init__(self):\r\n",
        "        self.inp_lang_tokenizer = None\r\n",
        "        self.targ_lang_tokenizer = None\r\n",
        "\r\n",
        "    def unicode_to_ascii(self, s):\r\n",
        "        # s = emoji.demojize(s)\r\n",
        "        return ''.join(c for c in unicodedata.normalize('NFD', s) \\\r\n",
        "                       if unicodedata.category(c) != 'Mn')\r\n",
        "\r\n",
        "    def preprocess_sentence(self, w):\r\n",
        "        w = self.unicode_to_ascii(w.lower().strip())\r\n",
        "        # creating a space between a word and the punctuation following it\r\n",
        "        w = w.replace('<end>', '').replace('<start>', '')\r\n",
        "        w = re.sub(r\"([?.!,])\", r\" \\1 \", w)\r\n",
        "        w = re.sub(r'[\" \"]+', \" \", w)\r\n",
        "        # replacing everything with space except (a-z, A-Z, \".\", \"?\", \"!\", \",\")\r\n",
        "        w = re.sub(r\"[^a-zA-Z0-9?.!,']+\", \" \", w)\r\n",
        "        w = w.strip()\r\n",
        "        # w = '<start> ' + w + ' <end>'\r\n",
        "        return w\r\n",
        "\r\n",
        "    def tokenize(self, lang):\r\n",
        "        lang_tokenizer = tf.keras.preprocessing.text.Tokenizer(\r\n",
        "            filters='', oov_token='<OOV>')\r\n",
        "        \r\n",
        "        lang_tokenizer.fit_on_texts(lang)\r\n",
        "        tensor = lang_tokenizer.texts_to_sequences(lang) \r\n",
        "        tensor = tf.keras.preprocessing.sequence.pad_sequences(tensor, \r\n",
        "                                                               padding='post')\r\n",
        "        return tensor, lang_tokenizer\r\n",
        "    \r\n",
        "    def _load_coqa(self, num_examples):\r\n",
        "        ds = tfds.load(\"coqa\", split=\"train\", shuffle_files=False)\r\n",
        "    \r\n",
        "        Xy = []\r\n",
        "        history_size = 3\r\n",
        "        \r\n",
        "        for entry in ds.take(num_examples):\r\n",
        "            prepr = self.preprocess_sentence(\r\n",
        "                entry[\"story\"].numpy().decode('utf-8')\r\n",
        "            )\r\n",
        "\r\n",
        "            st = prepr + \" \"\r\n",
        "            lastans = ''\r\n",
        "            hist = 0 \r\n",
        "            for j in range(len(entry[\"questions\"])):\r\n",
        "                ans = entry[\"answers\"]['input_text'][j].numpy().decode(\r\n",
        "                    \"utf-8\")      \r\n",
        "                      \r\n",
        "                ques = entry[\"questions\"][j].numpy().decode(\"utf-8\")\r\n",
        "\r\n",
        "                if len(ques.split(' ')) >= 5 \\\r\n",
        "                and len(ans.split(' ')) >= 3:\r\n",
        "                    if hist < history_size:\r\n",
        "                        if lastans != '':\r\n",
        "                            st += \" \" + lastans + \". \"\r\n",
        "                            hist += 1\r\n",
        "                    else:\r\n",
        "                        hist = 0\r\n",
        "                        st = prepr +  \" \"\r\n",
        "\r\n",
        "                    lastans = ans\r\n",
        "                    st += \" \" + ques + \" \"\r\n",
        "                    Xy.append([\"<start> \" + st + \" <end>\", \"<start> \" \\\r\n",
        "                               + ans + \" <end>\"])\r\n",
        "        return zip(*Xy)\r\n",
        "\r\n",
        "    def load_data(self, batch_size, num_examples):\r\n",
        "        inp_lang, targ_lang = self._load_coqa(num_examples)\r\n",
        "        input_tensor, inp_lang_tokenizer = self.tokenize(inp_lang)\r\n",
        "        target_tensor, targ_lang_tokenizer = self.tokenize(targ_lang)\r\n",
        "        \r\n",
        "        train_data = tf.data.Dataset.from_tensor_slices((\r\n",
        "            input_tensor,\r\n",
        "            target_tensor\r\n",
        "        )).batch(batch_size, drop_remainder=True)\r\n",
        "\r\n",
        "        return train_data, inp_lang_tokenizer, targ_lang_tokenizer"
      ],
      "execution_count": null,
      "outputs": []
    },
    {
      "cell_type": "code",
      "metadata": {
        "id": "QUNtpimnH1xs"
      },
      "source": [
        "handler = DatasetHandler()"
      ],
      "execution_count": null,
      "outputs": []
    },
    {
      "cell_type": "code",
      "metadata": {
        "id": "maamZWuIKVJ9"
      },
      "source": [
        "batch_size = 16\r\n",
        "num_examples = 64\r\n",
        "\r\n",
        "train_data, inp_lang, targ_lang = handler.load_data(batch_size, num_examples)"
      ],
      "execution_count": null,
      "outputs": []
    },
    {
      "cell_type": "code",
      "metadata": {
        "id": "lr5iO__-NORw"
      },
      "source": [
        "example_input_batch, example_target_batch = next(iter(train_data))"
      ],
      "execution_count": null,
      "outputs": []
    },
    {
      "cell_type": "code",
      "metadata": {
        "id": "qsh7yd27KaGh"
      },
      "source": [
        "vocab_inp_size = len(inp_lang.word_index) + 1\r\n",
        "vocab_tar_size = len(targ_lang.word_index) + 1\r\n",
        "max_length_input = example_input_batch.shape[1]\r\n",
        "max_length_output = example_target_batch.shape[1]\r\n",
        "\r\n",
        "latent_dim = 256"
      ],
      "execution_count": null,
      "outputs": []
    },
    {
      "cell_type": "code",
      "metadata": {
        "colab": {
          "base_uri": "https://localhost:8080/"
        },
        "id": "iHnldRInNY6H",
        "outputId": "52a73f39-e484-4c1f-c5ce-67dba6696829"
      },
      "source": [
        "print(\"max_length_ques, max_length_ans, vocab_size_ques, vocab_size_ans\")\r\n",
        "max_length_input, max_length_output, vocab_inp_size, vocab_tar_size, latent_dim"
      ],
      "execution_count": null,
      "outputs": [
        {
          "output_type": "stream",
          "text": [
            "max_length_ques, max_length_ans, vocab_size_ques, vocab_size_ans\n"
          ],
          "name": "stdout"
        },
        {
          "output_type": "execute_result",
          "data": {
            "text/plain": [
              "(440, 26, 4272, 573, 256)"
            ]
          },
          "metadata": {
            "tags": []
          },
          "execution_count": 9
        }
      ]
    },
    {
      "cell_type": "markdown",
      "metadata": {
        "id": "kZjYT0LXMRi4"
      },
      "source": [
        "#Encoder"
      ]
    },
    {
      "cell_type": "code",
      "metadata": {
        "id": "JWjHs4stMCQ-"
      },
      "source": [
        "class Encoder(tf.keras.Model):\r\n",
        "    def __init__(self, vocab_size, embedding_dim, enc_units, batch_sz, \r\n",
        "                 add_gaussian_noise=False, **kwargs):\r\n",
        "        \r\n",
        "        super(Encoder, self).__init__(**kwargs)\r\n",
        "        self.batch_sz = batch_sz\r\n",
        "        self.enc_units = enc_units\r\n",
        "        self.embedding = tf.keras.layers.Embedding(vocab_size, \r\n",
        "                                                   embedding_dim)\r\n",
        "        gpu = is_gpu_available()\r\n",
        "        flstm = None\r\n",
        "        blstm = None\r\n",
        "        if not gpu:\r\n",
        "            flstm = tf.keras.layers.LSTM(\r\n",
        "                        self.enc_units,\r\n",
        "                        return_sequences=True,\r\n",
        "                        return_state=True,\r\n",
        "                        recurrent_initializer='glorot_uniform',\r\n",
        "                        trainable=True\r\n",
        "                    )\r\n",
        "            blstm = tf.keras.layers.LSTM(\r\n",
        "                        self.enc_units,\r\n",
        "                        return_sequences=True,\r\n",
        "                        return_state=True,\r\n",
        "                        recurrent_initializer='glorot_uniform',\r\n",
        "                        go_backwards=True,\r\n",
        "                        trainable=True\r\n",
        "                    )\r\n",
        "        else:\r\n",
        "            flstm = tf.compat.v1.keras.layers.CuDNNLSTM(\r\n",
        "                self.enc_units,\r\n",
        "                return_sequences=True,\r\n",
        "                return_state=True,\r\n",
        "                recurrent_initializer='glorot_uniform',\r\n",
        "                trainable=True\r\n",
        "            )\r\n",
        "\r\n",
        "            blstm = tf.compat.v1.keras.layers.CuDNNLSTM(\r\n",
        "                self.enc_units,\r\n",
        "                return_sequences=True,\r\n",
        "                return_state=True,\r\n",
        "                recurrent_initializer='glorot_uniform',\r\n",
        "                go_backwards=True,\r\n",
        "                trainable=True\r\n",
        "            )\r\n",
        "            \r\n",
        "        self.bilstm_layer = tf.keras.layers.Bidirectional(\r\n",
        "            flstm,\r\n",
        "            backward_layer=blstm,\r\n",
        "            trainable=True\r\n",
        "        )\r\n",
        "\r\n",
        "        self.add_gaussian_noise = add_gaussian_noise\r\n",
        "\r\n",
        "    def build_graph(self):\r\n",
        "        enc_inp = tf.keras.Input(shape=(None, ))\r\n",
        "        return tf.keras.Model(enc_inp, self.call(enc_inp))\r\n",
        "\r\n",
        "    def call(self, x, hidden=None):\r\n",
        "        if hidden is None:\r\n",
        "            hidden = self.initialize_hidden_state()\r\n",
        "        x = self.embedding(x)\r\n",
        "        output, fh, fc, bh, bc = self.bilstm_layer(x, \r\n",
        "                                                   initial_state = hidden)\r\n",
        "\r\n",
        "        h = tf.keras.layers.Concatenate()([fh, bh])\r\n",
        "        c = tf.keras.layers.Concatenate()([fc, bc])\r\n",
        "\r\n",
        "        if self.add_gaussian_noise:\r\n",
        "            h = tf.keras.layers.GaussianNoise(0.1)(h)\r\n",
        "            c = tf.keras.layers.GaussianNoise(0.1)(c)\r\n",
        "\r\n",
        "        return output, h, c\r\n",
        "\r\n",
        "    def initialize_hidden_state(self):\r\n",
        "        init_state = [tf.zeros((self.batch_sz, self.enc_units)) \\\r\n",
        "                      for i in range(4)]\r\n",
        "        return init_state"
      ],
      "execution_count": null,
      "outputs": []
    },
    {
      "cell_type": "code",
      "metadata": {
        "id": "bYTy-C_mMxOa"
      },
      "source": [
        "encoder = Encoder(\r\n",
        "    vocab_inp_size,\r\n",
        "    latent_dim,\r\n",
        "    latent_dim,\r\n",
        "    batch_size,\r\n",
        "    add_gaussian_noise=True\r\n",
        ")"
      ],
      "execution_count": null,
      "outputs": []
    },
    {
      "cell_type": "code",
      "metadata": {
        "colab": {
          "base_uri": "https://localhost:8080/",
          "height": 533
        },
        "id": "MpiEdcOPN5ow",
        "outputId": "2dab689d-2127-4e63-bf2f-e1b8fa533ad6"
      },
      "source": [
        "tf.keras.utils.plot_model(\r\n",
        "    encoder.build_graph(),\r\n",
        "    show_shapes=True,\r\n",
        "    show_layer_names=True\r\n",
        ")"
      ],
      "execution_count": null,
      "outputs": [
        {
          "output_type": "execute_result",
          "data": {
            "image/png": "[encoded data removed]",
            "text/plain": [
              "<IPython.core.display.Image object>"
            ]
          },
          "metadata": {
            "tags": []
          },
          "execution_count": 12
        }
      ]
    },
    {
      "cell_type": "code",
      "metadata": {
        "id": "blgaaa6aOmHG"
      },
      "source": [
        "enc_sample_out, enc_sample_h, enc_sample_c = encoder(example_input_batch)"
      ],
      "execution_count": null,
      "outputs": []
    },
    {
      "cell_type": "code",
      "metadata": {
        "id": "FnKwXPQNe2OF"
      },
      "source": [
        ""
      ],
      "execution_count": null,
      "outputs": []
    },
    {
      "cell_type": "markdown",
      "metadata": {
        "id": "4dnnT2kpOMwU"
      },
      "source": [
        "#Decoder"
      ]
    },
    {
      "cell_type": "code",
      "metadata": {
        "id": "80QGzDlkOA8v"
      },
      "source": [
        "class Decoder(tf.keras.Model):\r\n",
        "    def __init__(self, vocab_size, embedding_dim, \r\n",
        "                 dec_units, batch_sz, \r\n",
        "                 attention_type='luong', sampler_fn=None):\r\n",
        "        \r\n",
        "        super(Decoder, self).__init__()\r\n",
        "        self.batch_sz = batch_sz\r\n",
        "        self.dec_units = dec_units\r\n",
        "        self.attention_type = attention_type\r\n",
        "\r\n",
        "        # int(vocab_size ** 0.25) for embedding_dim\r\n",
        "        self.embedding = tf.keras.layers.Embedding(vocab_size, \r\n",
        "                                                   embedding_dim)\r\n",
        "\r\n",
        "        self.fc = tf.keras.layers.Dense(vocab_size)\r\n",
        "\r\n",
        "        self.decoder_rnn_cell = tf.keras.layers.LSTMCell(self.dec_units)\r\n",
        "\r\n",
        "        if not sampler_fn:\r\n",
        "            self.sampler = tfa.seq2seq.TrainingSampler()\r\n",
        "            # sampler = GumbelSampler()\r\n",
        "        else:\r\n",
        "            self.sampler = sampler_fn\r\n",
        "\r\n",
        "        self.attention_mechanism = self.build_attention_mechanism(\r\n",
        "            self.dec_units, \r\n",
        "            None, \r\n",
        "            tf.fill([self.batch_sz], max_length_input), \r\n",
        "            self.attention_type\r\n",
        "        )\r\n",
        "\r\n",
        "        self.rnn_cell = self.build_rnn_cell(batch_sz)\r\n",
        "\r\n",
        "        self.decoder = tfa.seq2seq.BasicDecoder(self.rnn_cell, \r\n",
        "                                                sampler=self.sampler, \r\n",
        "                                                output_layer=self.fc)\r\n",
        "\r\n",
        "\r\n",
        "    def build_rnn_cell(self, batch_sz):\r\n",
        "        rnn_cell = tfa.seq2seq.AttentionWrapper(self.decoder_rnn_cell, \r\n",
        "                                    self.attention_mechanism, \r\n",
        "                                    attention_layer_size=self.dec_units,\r\n",
        "                                    alignment_history=True)\r\n",
        "        return rnn_cell\r\n",
        "\r\n",
        "    def build_attention_mechanism(self, dec_units, memory, \r\n",
        "                                  memory_sequence_length, \r\n",
        "                                  attention_type='luong'):\r\n",
        "        if(attention_type=='bahdanau'):\r\n",
        "            return tfa.seq2seq.BahdanauAttention(\r\n",
        "                units=dec_units,\r\n",
        "                memory=memory,\r\n",
        "                memory_sequence_length=memory_sequence_length)\r\n",
        "        else:\r\n",
        "            return tfa.seq2seq.LuongAttention(\r\n",
        "                units=dec_units, \r\n",
        "                memory=memory, \r\n",
        "                memory_sequence_length=memory_sequence_length\r\n",
        "            )\r\n",
        "\r\n",
        "    def build_initial_state(self, batch_sz, encoder_state, Dtype):\r\n",
        "        decoder_initial_state = self.rnn_cell.get_initial_state(\r\n",
        "            batch_size=batch_sz, \r\n",
        "            dtype=Dtype\r\n",
        "        )\r\n",
        "        decoder_initial_state = decoder_initial_state.clone(\r\n",
        "            cell_state=encoder_state\r\n",
        "        )\r\n",
        "        return decoder_initial_state\r\n",
        "\r\n",
        "    def call(self, inputs, initial_state):\r\n",
        "        x = self.embedding(inputs)\r\n",
        "        outputs, dec_states, _ = self.decoder(\r\n",
        "            x, \r\n",
        "            initial_state=initial_state, \r\n",
        "            sequence_length=tf.fill([self.batch_sz], max_length_output - 1)\r\n",
        "        )\r\n",
        "        return outputs, dec_states"
      ],
      "execution_count": null,
      "outputs": []
    },
    {
      "cell_type": "code",
      "metadata": {
        "id": "IzFVRl6dOKSZ"
      },
      "source": [
        "decoder = Decoder(\r\n",
        "    vocab_tar_size,\r\n",
        "    latent_dim,\r\n",
        "    latent_dim * 2,\r\n",
        "    batch_size\r\n",
        ")"
      ],
      "execution_count": null,
      "outputs": []
    },
    {
      "cell_type": "code",
      "metadata": {
        "id": "OYbco2-YOVSh"
      },
      "source": [
        "decoder.attention_mechanism.setup_memory(enc_sample_out)\r\n",
        "dec_sample_init_state = decoder.build_initial_state(\r\n",
        "    batch_size,\r\n",
        "    [enc_sample_h, enc_sample_c],\r\n",
        "    tf.float32\r\n",
        ")\r\n",
        "dec_sample_out, _ = decoder(example_target_batch, dec_sample_init_state)"
      ],
      "execution_count": null,
      "outputs": []
    },
    {
      "cell_type": "code",
      "metadata": {
        "colab": {
          "base_uri": "https://localhost:8080/"
        },
        "id": "qUTwUTLjPKkH",
        "outputId": "e6bab129-0edb-4111-8512-629ddff7fa46"
      },
      "source": [
        "dec_sample_out.rnn_output.shape"
      ],
      "execution_count": null,
      "outputs": [
        {
          "output_type": "execute_result",
          "data": {
            "text/plain": [
              "TensorShape([16, 25, 573])"
            ]
          },
          "metadata": {
            "tags": []
          },
          "execution_count": 17
        }
      ]
    },
    {
      "cell_type": "code",
      "metadata": {
        "id": "OtnOryS6PNHN"
      },
      "source": [
        ""
      ],
      "execution_count": null,
      "outputs": []
    },
    {
      "cell_type": "markdown",
      "metadata": {
        "id": "qlrp8uRNoiIG"
      },
      "source": [
        "#GAN"
      ]
    },
    {
      "cell_type": "markdown",
      "metadata": {
        "id": "7XHuGDBHcUuW"
      },
      "source": [
        "##Generator"
      ]
    },
    {
      "cell_type": "code",
      "metadata": {
        "id": "ZBUZe4MPcWi2"
      },
      "source": [
        "class Generator(tf.keras.Model):\r\n",
        "    def __init__(self, encoder, decoder, **kwargs):\r\n",
        "        super(Generator, self).__init__(**kwargs)\r\n",
        "        self.encoder = encoder\r\n",
        "        self.decoder = decoder\r\n",
        "    \r\n",
        "    def call(self, inputs, training=False):\r\n",
        "        inp, targ = inputs\r\n",
        "        enc_hidden = self.encoder.initialize_hidden_state()\r\n",
        "\r\n",
        "        enc_output, enc_h, enc_c = self.encoder(inp, enc_hidden)\r\n",
        "\r\n",
        "        dec_input = targ[ : , : -1]\r\n",
        "        self.decoder.attention_mechanism.setup_memory(enc_output)\r\n",
        "        decoder_initial_state = self.decoder.build_initial_state(\r\n",
        "                self.encoder.batch_sz, \r\n",
        "                [enc_h, enc_c], \r\n",
        "                tf.float32\r\n",
        "        )\r\n",
        "        pred, _ = self.decoder(dec_input, decoder_initial_state)\r\n",
        "            \r\n",
        "        return tf.nn.softmax(pred.rnn_output)"
      ],
      "execution_count": null,
      "outputs": []
    },
    {
      "cell_type": "code",
      "metadata": {
        "id": "9ivS230scWfL"
      },
      "source": [
        "generator = Generator(encoder, decoder)"
      ],
      "execution_count": null,
      "outputs": []
    },
    {
      "cell_type": "code",
      "metadata": {
        "colab": {
          "base_uri": "https://localhost:8080/"
        },
        "id": "QmGNGIlCcWWs",
        "outputId": "98f8c42d-0fe9-4334-9e62-9fc2625eae96"
      },
      "source": [
        "generator(next(iter(train_data)))"
      ],
      "execution_count": null,
      "outputs": [
        {
          "output_type": "execute_result",
          "data": {
            "text/plain": [
              "<tf.Tensor: shape=(16, 25, 573), dtype=float32, numpy=\n",
              "array([[[0.00174836, 0.00175068, 0.00175717, ..., 0.00174297,\n",
              "         0.00175741, 0.00174238],\n",
              "        [0.00173981, 0.00175452, 0.00175287, ..., 0.00174472,\n",
              "         0.00175837, 0.00173939],\n",
              "        [0.00173882, 0.00176086, 0.00175009, ..., 0.00174245,\n",
              "         0.00175933, 0.00173929],\n",
              "        ...,\n",
              "        [0.00173569, 0.00173449, 0.00175207, ..., 0.00173802,\n",
              "         0.00175254, 0.00173738],\n",
              "        [0.00173573, 0.00173447, 0.00175195, ..., 0.00173879,\n",
              "         0.00175308, 0.00173734],\n",
              "        [0.00173572, 0.00173449, 0.00175183, ..., 0.00173947,\n",
              "         0.00175354, 0.00173733]],\n",
              "\n",
              "       [[0.00175213, 0.00175498, 0.00175438, ..., 0.00174323,\n",
              "         0.00176577, 0.00173897],\n",
              "        [0.00174213, 0.0017505 , 0.00175627, ..., 0.00174368,\n",
              "         0.00175626, 0.00174285],\n",
              "        [0.00174998, 0.00175577, 0.0017458 , ..., 0.00174012,\n",
              "         0.00175157, 0.00174426],\n",
              "        ...,\n",
              "        [0.00173983, 0.00173672, 0.00174925, ..., 0.00174093,\n",
              "         0.00175666, 0.00173738],\n",
              "        [0.0017395 , 0.00173701, 0.0017492 , ..., 0.00174154,\n",
              "         0.00175702, 0.0017376 ],\n",
              "        [0.00173919, 0.0017373 , 0.00174915, ..., 0.00174207,\n",
              "         0.00175732, 0.00173783]],\n",
              "\n",
              "       [[0.00175188, 0.00175363, 0.00175449, ..., 0.00174417,\n",
              "         0.001765  , 0.00173877],\n",
              "        [0.00174848, 0.00175823, 0.00174906, ..., 0.00174327,\n",
              "         0.00176376, 0.00173644],\n",
              "        [0.00173523, 0.00175346, 0.00174772, ..., 0.00173677,\n",
              "         0.00176215, 0.00173058],\n",
              "        ...,\n",
              "        [0.00173954, 0.00173677, 0.00175001, ..., 0.00173945,\n",
              "         0.00175555, 0.00173724],\n",
              "        [0.00173934, 0.00173681, 0.00175003, ..., 0.0017402 ,\n",
              "         0.00175608, 0.00173733],\n",
              "        [0.00173912, 0.00173688, 0.00175002, ..., 0.00174088,\n",
              "         0.0017565 , 0.00173744]],\n",
              "\n",
              "       ...,\n",
              "\n",
              "       [[0.0017542 , 0.00175662, 0.00174705, ..., 0.00173382,\n",
              "         0.00176739, 0.0017411 ],\n",
              "        [0.00176039, 0.00176352, 0.00174432, ..., 0.00173321,\n",
              "         0.00176217, 0.0017438 ],\n",
              "        [0.00176293, 0.00176564, 0.0017447 , ..., 0.00173533,\n",
              "         0.00175614, 0.00174379],\n",
              "        ...,\n",
              "        [0.00174912, 0.0017424 , 0.00174675, ..., 0.00173385,\n",
              "         0.00176077, 0.00173996],\n",
              "        [0.00174891, 0.00174254, 0.00174701, ..., 0.00173474,\n",
              "         0.00176163, 0.00174008],\n",
              "        [0.00174871, 0.0017427 , 0.00174721, ..., 0.00173555,\n",
              "         0.00176236, 0.0017402 ]],\n",
              "\n",
              "       [[0.00175359, 0.00175516, 0.00174786, ..., 0.00173459,\n",
              "         0.00176653, 0.00174077],\n",
              "        [0.00175532, 0.00175899, 0.00174627, ..., 0.00172602,\n",
              "         0.00176815, 0.00174415],\n",
              "        [0.00175904, 0.00175497, 0.00173924, ..., 0.0017232 ,\n",
              "         0.00176048, 0.00173895],\n",
              "        ...,\n",
              "        [0.00174809, 0.00174155, 0.00174745, ..., 0.00173736,\n",
              "         0.00176179, 0.00173861],\n",
              "        [0.00174784, 0.00174171, 0.00174752, ..., 0.00173782,\n",
              "         0.00176219, 0.00173896],\n",
              "        [0.0017476 , 0.00174189, 0.00174755, ..., 0.00173823,\n",
              "         0.00176254, 0.00173931]],\n",
              "\n",
              "       [[0.00175331, 0.00175444, 0.00174783, ..., 0.00173553,\n",
              "         0.0017661 , 0.00174049],\n",
              "        [0.0017455 , 0.00175551, 0.00174663, ..., 0.00172687,\n",
              "         0.00176589, 0.00174143],\n",
              "        [0.00174387, 0.00175914, 0.00174434, ..., 0.00173146,\n",
              "         0.0017619 , 0.00174109],\n",
              "        ...,\n",
              "        [0.00174751, 0.00174151, 0.00174777, ..., 0.00173817,\n",
              "         0.00176189, 0.00174011],\n",
              "        [0.00174725, 0.00174171, 0.00174775, ..., 0.0017386 ,\n",
              "         0.00176219, 0.00174031],\n",
              "        [0.00174699, 0.00174192, 0.00174772, ..., 0.00173898,\n",
              "         0.00176244, 0.00174054]]], dtype=float32)>"
            ]
          },
          "metadata": {
            "tags": []
          },
          "execution_count": 20
        }
      ]
    },
    {
      "cell_type": "code",
      "metadata": {
        "id": "U056pPTQdVh6"
      },
      "source": [
        ""
      ],
      "execution_count": null,
      "outputs": []
    },
    {
      "cell_type": "markdown",
      "metadata": {
        "id": "03Is52jYPz5o"
      },
      "source": [
        "##Discriminator"
      ]
    },
    {
      "cell_type": "code",
      "metadata": {
        "id": "BlfuWJiEx4bB"
      },
      "source": [
        "class ClipConstraint(tf.keras.constraints.Constraint):\r\n",
        "    def __init__(self, clip_value, **kwargs):\r\n",
        "        self.clip_value = clip_value\r\n",
        "\r\n",
        "    def __call__(self, weights):\r\n",
        "        return tf.keras.backend.clip(weights, -self.clip_value, self.clip_value)\r\n",
        "        \r\n",
        "    def get_config(self):\r\n",
        "        return {\"clip_value\": self.clip_value}"
      ],
      "execution_count": null,
      "outputs": []
    },
    {
      "cell_type": "code",
      "metadata": {
        "id": "rB8kUhJhPm4g"
      },
      "source": [
        "def get_discriminator(encoder, \r\n",
        "                      ques_shape, \r\n",
        "                      ans_shape, \r\n",
        "                      latent_dim,\r\n",
        "                      is_critic=False):\r\n",
        "    \r\n",
        "    def repeat_block(x, alpha, dense_units, dropout_rate):\r\n",
        "        x = tf.keras.layers.LeakyReLU(alpha)(x)\r\n",
        "        x = tf.keras.layers.Dropout(dropout_rate)(x) \r\n",
        "        x = tf.keras.layers.Dense(dense_units)(x)\r\n",
        "        return tf.keras.layers.BatchNormalization()(x)\r\n",
        "\r\n",
        "    if is_critic:\r\n",
        "        clipper = ClipConstraint(1e-2)\r\n",
        "    else:\r\n",
        "        clipper = None\r\n",
        "\r\n",
        "    ques_inp = tf.keras.Input(shape=ques_shape)\r\n",
        "    _, state_h, state_c = encoder(ques_inp)\r\n",
        "    enc_states = [state_h, state_c]\r\n",
        "\r\n",
        "\r\n",
        "    ans_inp = tf.keras.Input(shape=(ans_shape))\r\n",
        "    ans_dense = tf.keras.layers.Dense(latent_dim, activation='linear',\r\n",
        "                                      name='dense_embedder')\r\n",
        "    x = ans_dense(ans_inp)\r\n",
        "\r\n",
        "    if is_gpu_available():\r\n",
        "        flstm = tf.compat.v1.keras.layers.CuDNNLSTM(\r\n",
        "                latent_dim,\r\n",
        "                return_sequences=True,\r\n",
        "                return_state=True,\r\n",
        "                recurrent_initializer='glorot_uniform',\r\n",
        "                trainable=True\r\n",
        "        )\r\n",
        "\r\n",
        "        blstm = tf.compat.v1.keras.layers.CuDNNLSTM(\r\n",
        "                latent_dim,\r\n",
        "                return_sequences=True,\r\n",
        "                return_state=True,\r\n",
        "                recurrent_initializer='glorot_uniform',\r\n",
        "                go_backwards=True,\r\n",
        "                trainable=True\r\n",
        "        )\r\n",
        "    else:\r\n",
        "        flstm = tf.keras.layers.LSTM(\r\n",
        "                latent_dim,\r\n",
        "                return_sequences=True,\r\n",
        "                return_state=True,\r\n",
        "                recurrent_initializer='glorot_uniform',\r\n",
        "                trainable=True\r\n",
        "        )\r\n",
        "\r\n",
        "        blstm = tf.keras.layers.LSTM(\r\n",
        "                latent_dim,\r\n",
        "                return_sequences=True,\r\n",
        "                return_state=True,\r\n",
        "                recurrent_initializer='glorot_uniform',\r\n",
        "                go_backwards=True,\r\n",
        "                trainable=True\r\n",
        "        )\r\n",
        "   \r\n",
        "    _, fh, fc, bh, bc = tf.keras.layers.Bidirectional(\r\n",
        "                flstm,\r\n",
        "                backward_layer=blstm,\r\n",
        "                trainable=True\r\n",
        "        )(x)\r\n",
        "\r\n",
        "    dec_state_h = tf.keras.layers.Concatenate()([fh, bh])\r\n",
        "    dec_state_c = tf.keras.layers.Concatenate()([fc, bc])\r\n",
        "    dec_states = [dec_state_h, dec_state_c]\r\n",
        "\r\n",
        "    concat = tf.keras.layers.Concatenate()(enc_states + dec_states)\r\n",
        "    x = repeat_block(concat, 0.15, 64, 0.1)\r\n",
        "    x = repeat_block(x, 0.2, 32, 0.1)\r\n",
        "    if is_critic:\r\n",
        "        out = tf.keras.layers.Dense(1, activation='linear', \r\n",
        "                                kernel_constraint=clipper)(x)\r\n",
        "    else:\r\n",
        "        out = tf.keras.layers.Dense(1, activation='sigmoid')(x)\r\n",
        "\r\n",
        "    model = tf.keras.Model([ques_inp, ans_inp], out)\r\n",
        "\r\n",
        "    return model"
      ],
      "execution_count": null,
      "outputs": []
    },
    {
      "cell_type": "code",
      "metadata": {
        "id": "FGhUqyRuT_67"
      },
      "source": [
        "discriminator = get_discriminator(\r\n",
        "    Encoder(vocab_inp_size, latent_dim, latent_dim, batch_size),\r\n",
        "    ques_shape=(None,),\r\n",
        "    ans_shape=dec_sample_out.rnn_output.shape[1:],\r\n",
        "    latent_dim=latent_dim\r\n",
        ")"
      ],
      "execution_count": null,
      "outputs": []
    },
    {
      "cell_type": "code",
      "metadata": {
        "id": "ADatCMF4Wu2l"
      },
      "source": [
        "emb_weights = decoder.embedding.get_weights()\r\n",
        "emb_weights.append(discriminator.layers[1].get_weights()[1])\r\n",
        "\r\n",
        "discriminator.layers[1].set_weights(emb_weights)"
      ],
      "execution_count": null,
      "outputs": []
    },
    {
      "cell_type": "code",
      "metadata": {
        "colab": {
          "base_uri": "https://localhost:8080/"
        },
        "id": "sTJUuuXrUY7J",
        "outputId": "25dcfcbc-4c3a-4e9d-cdc6-db370a99b86d"
      },
      "source": [
        "discriminator.summary()"
      ],
      "execution_count": null,
      "outputs": [
        {
          "output_type": "stream",
          "text": [
            "Model: \"model_3\"\n",
            "__________________________________________________________________________________________________\n",
            "Layer (type)                    Output Shape         Param #     Connected to                     \n",
            "==================================================================================================\n",
            "input_7 (InputLayer)            [(None, 25, 573)]    0                                            \n",
            "__________________________________________________________________________________________________\n",
            "dense_embedder (Dense)          (None, 25, 256)      146944      input_7[0][0]                    \n",
            "__________________________________________________________________________________________________\n",
            "input_6 (InputLayer)            [(None, None)]       0                                            \n",
            "__________________________________________________________________________________________________\n",
            "bidirectional_6 (Bidirectional) [(None, 25, 512), (N 1050624     dense_embedder[0][0]             \n",
            "__________________________________________________________________________________________________\n",
            "encoder_3 (Encoder)             ((16, None, 512), (1 2144256     input_6[0][0]                    \n",
            "__________________________________________________________________________________________________\n",
            "concatenate_136 (Concatenate)   (None, 512)          0           bidirectional_6[0][1]            \n",
            "                                                                 bidirectional_6[0][3]            \n",
            "__________________________________________________________________________________________________\n",
            "concatenate_137 (Concatenate)   (None, 512)          0           bidirectional_6[0][2]            \n",
            "                                                                 bidirectional_6[0][4]            \n",
            "__________________________________________________________________________________________________\n",
            "concatenate_138 (Concatenate)   (16, 2048)           0           encoder_3[0][1]                  \n",
            "                                                                 encoder_3[0][2]                  \n",
            "                                                                 concatenate_136[0][0]            \n",
            "                                                                 concatenate_137[0][0]            \n",
            "__________________________________________________________________________________________________\n",
            "leaky_re_lu_4 (LeakyReLU)       (16, 2048)           0           concatenate_138[0][0]            \n",
            "__________________________________________________________________________________________________\n",
            "dropout_4 (Dropout)             (16, 2048)           0           leaky_re_lu_4[0][0]              \n",
            "__________________________________________________________________________________________________\n",
            "dense_7 (Dense)                 (16, 64)             131136      dropout_4[0][0]                  \n",
            "__________________________________________________________________________________________________\n",
            "batch_normalization_4 (BatchNor (16, 64)             256         dense_7[0][0]                    \n",
            "__________________________________________________________________________________________________\n",
            "leaky_re_lu_5 (LeakyReLU)       (16, 64)             0           batch_normalization_4[0][0]      \n",
            "__________________________________________________________________________________________________\n",
            "dropout_5 (Dropout)             (16, 64)             0           leaky_re_lu_5[0][0]              \n",
            "__________________________________________________________________________________________________\n",
            "dense_8 (Dense)                 (16, 32)             2080        dropout_5[0][0]                  \n",
            "__________________________________________________________________________________________________\n",
            "batch_normalization_5 (BatchNor (16, 32)             128         dense_8[0][0]                    \n",
            "__________________________________________________________________________________________________\n",
            "dense_9 (Dense)                 (16, 1)              33          batch_normalization_5[0][0]      \n",
            "==================================================================================================\n",
            "Total params: 3,475,457\n",
            "Trainable params: 3,475,265\n",
            "Non-trainable params: 192\n",
            "__________________________________________________________________________________________________\n"
          ],
          "name": "stdout"
        }
      ]
    },
    {
      "cell_type": "code",
      "metadata": {
        "colab": {
          "base_uri": "https://localhost:8080/",
          "height": 1000
        },
        "id": "fTUeEdcQWCU4",
        "outputId": "a1a2ab93-7b30-4ef9-e940-abcfdfa459b9"
      },
      "source": [
        "tf.keras.utils.plot_model(\r\n",
        "    discriminator,\r\n",
        "    show_shapes=True,\r\n",
        "    show_layer_names=True,\r\n",
        "    expand_nested=True\r\n",
        ")"
      ],
      "execution_count": null,
      "outputs": [
        {
          "output_type": "execute_result",
          "data": {
            "image/png": "[encoded data removed]",
            "text/plain": [
              "<IPython.core.display.Image object>"
            ]
          },
          "metadata": {
            "tags": []
          },
          "execution_count": 25
        }
      ]
    },
    {
      "cell_type": "code",
      "metadata": {
        "colab": {
          "base_uri": "https://localhost:8080/"
        },
        "id": "yfSAKSxvYVys",
        "outputId": "2d70caa6-8188-4df1-99c9-cd0b87a4a61b"
      },
      "source": [
        "discriminator([example_input_batch,\r\n",
        "               tf.nn.softmax(dec_sample_out.rnn_output)])"
      ],
      "execution_count": null,
      "outputs": [
        {
          "output_type": "execute_result",
          "data": {
            "text/plain": [
              "<tf.Tensor: shape=(16, 1), dtype=float32, numpy=\n",
              "array([[0.4959376 ],\n",
              "       [0.49516737],\n",
              "       [0.49516556],\n",
              "       [0.49518555],\n",
              "       [0.4946578 ],\n",
              "       [0.49465743],\n",
              "       [0.49465865],\n",
              "       [0.49466738],\n",
              "       [0.49465832],\n",
              "       [0.49439088],\n",
              "       [0.49439085],\n",
              "       [0.494391  ],\n",
              "       [0.49745908],\n",
              "       [0.49745888],\n",
              "       [0.4974583 ],\n",
              "       [0.49745888]], dtype=float32)>"
            ]
          },
          "metadata": {
            "tags": []
          },
          "execution_count": 49
        }
      ]
    },
    {
      "cell_type": "code",
      "metadata": {
        "id": "Q4pwUjm3bx6z"
      },
      "source": [
        ""
      ],
      "execution_count": null,
      "outputs": []
    },
    {
      "cell_type": "markdown",
      "metadata": {
        "id": "yxMLE2EWbv9h"
      },
      "source": [
        "##TextGAN"
      ]
    },
    {
      "cell_type": "code",
      "metadata": {
        "id": "BlBe9DGybc6q"
      },
      "source": [
        "class TextGAN(tf.keras.Model):\r\n",
        "    def __init__(self, generator, discriminator, \r\n",
        "                 vocab_tar_size, **kwargs):\r\n",
        "        \r\n",
        "        super(TextGAN, self).__init__(**kwargs)\r\n",
        "        self.generator = generator\r\n",
        "        self.discriminator = discriminator\r\n",
        "        self.vocab_tar_size = vocab_tar_size\r\n",
        "        \r\n",
        "    def compile(self, g_opts, d_opts, g_loss_fn, d_loss_fn):\r\n",
        "        super(TextGAN, self).compile()\r\n",
        "        self.g_opts = g_opts\r\n",
        "        self.d_opts = d_opts\r\n",
        "        self.g_loss_fn = g_loss_fn\r\n",
        "        self.d_loss_fn = d_loss_fn\r\n",
        "\r\n",
        "    def train_step(self, inputs):\r\n",
        "        inp, targ = inputs\r\n",
        "\r\n",
        "        with tf.GradientTape() as gen_tape, tf.GradientTape() as disc_tape:\r\n",
        "            generated_ans = self.generator([inp, targ], training=True)\r\n",
        "\r\n",
        "            real_out = self.discriminator([inp, \r\n",
        "                                           tf.one_hot(targ[:, :-1], \r\n",
        "                                                      depth=self.vocab_tar_size, \r\n",
        "                                                      dtype=tf.float32)], \r\n",
        "                                          training=True)\r\n",
        "\r\n",
        "            fake_out = self.discriminator([inp, generated_ans], training=True)\r\n",
        "\r\n",
        "            gen_loss = self.g_loss_fn(fake_out)\r\n",
        "            disc_loss = self.d_loss_fn(real_out, fake_out)\r\n",
        "\r\n",
        "        gen_vars = self.generator.trainable_variables\r\n",
        "        disc_vars = self.discriminator.trainable_variables\r\n",
        "\r\n",
        "        gen_grads = gen_tape.gradient(gen_loss, gen_vars)\r\n",
        "        self.g_opts.apply_gradients(zip(gen_grads, gen_vars))\r\n",
        "\r\n",
        "        disc_grads = disc_tape.gradient(disc_loss, disc_vars)\r\n",
        "        self.d_opts.apply_gradients(zip(disc_grads, disc_vars))\r\n",
        "\r\n",
        "        return {\"gen_loss\":gen_loss, \"disc_loss\":disc_loss}"
      ],
      "execution_count": null,
      "outputs": []
    },
    {
      "cell_type": "code",
      "metadata": {
        "id": "3iSzY_FgpbHO"
      },
      "source": [
        "text_gan = TextGAN(generator, discriminator, vocab_tar_size)"
      ],
      "execution_count": null,
      "outputs": []
    },
    {
      "cell_type": "code",
      "metadata": {
        "id": "FtC3kFm5ozDg"
      },
      "source": [
        "cross_entropy = tf.keras.losses.BinaryCrossentropy(from_logits=True)\r\n",
        "\r\n",
        "def discriminator_loss(real_output, fake_output):\r\n",
        "    real_loss = cross_entropy(tf.ones_like(real_output), real_output)\r\n",
        "    fake_loss = cross_entropy(tf.zeros_like(fake_output), fake_output)\r\n",
        "    total_loss = real_loss + fake_loss\r\n",
        "    return total_loss\r\n",
        "\r\n",
        "def generator_loss(fake_output):\r\n",
        "    return cross_entropy(tf.ones_like(fake_output), fake_output)\r\n",
        "\r\n",
        "generator_optimizer = tf.keras.optimizers.Adam(1e-4)\r\n",
        "discriminator_optimizer = tf.keras.optimizers.Adam(1e-4)"
      ],
      "execution_count": null,
      "outputs": []
    },
    {
      "cell_type": "code",
      "metadata": {
        "id": "J4jHhEVUpRdm"
      },
      "source": [
        "def generator_predict(encoder, decoder, \r\n",
        "                      sentence, inp_lang, targ_lang, max_length_input, \r\n",
        "                      mode='print', filepath=None, prefix=None):\r\n",
        "    \r\n",
        "    result, mod_sen = generator_inference(encoder, decoder, \r\n",
        "                                          sentence, \r\n",
        "                                          inp_lang, \r\n",
        "                                          targ_lang, \r\n",
        "                                          max_length_input)\r\n",
        "    # print(result)\r\n",
        "    result = targ_lang.sequences_to_texts(result)\r\n",
        "    mode = mode.lower()\r\n",
        "    if mode is None or mode not in ['print', 'save']:\r\n",
        "        mode = 'print'\r\n",
        "\r\n",
        "    if mode == 'print':\r\n",
        "        print('Input Question: %s\\n' % (mod_sen))\r\n",
        "        print('Generated Answer: {}'.format(result))\r\n",
        "    elif mode == 'save':\r\n",
        "        if filepath is None:\r\n",
        "            filepath = 'results.txt'\r\n",
        "\r\n",
        "        with open(filepath, 'a') as result_file:\r\n",
        "            result_file.write(\"\\n\")\r\n",
        "            if prefix is not None:\r\n",
        "                result_file.write(str(prefix) + \"\\n\")\r\n",
        "            result_file.write('Input Question: %s\\n' % (mod_sen))\r\n",
        "            result_file.write('Generated Answer: {}\\n'.format(result))\r\n",
        "\r\n",
        "        print('Results saved to {}'.format(filepath))\r\n",
        "\r\n",
        "\r\n",
        "def generator_inference(encoder, decoder, sentence, inp_lang, \r\n",
        "                        targ_lang, max_length_input):\r\n",
        "    sentence = \"<start> \" + handler.preprocess_sentence(sentence) \\\r\n",
        "     + \" <end>\"\r\n",
        "\r\n",
        "    inputs = [inp_lang.word_index[i] if i in inp_lang.word_index else 0 \\\r\n",
        "              for i in sentence.split()]\r\n",
        "    inputs = tf.convert_to_tensor(\r\n",
        "        tf.keras.preprocessing.sequence.pad_sequences(\r\n",
        "            [inputs],\r\n",
        "            maxlen=max_length_input,\r\n",
        "            padding='post'\r\n",
        "        )\r\n",
        "    )\r\n",
        "\r\n",
        "    inference_batch_size = inputs.shape[0]\r\n",
        "    result = ''\r\n",
        "\r\n",
        "    enc_start_state = [tf.zeros((inference_batch_size, latent_dim)) \\\r\n",
        "                       for i in range(4)]\r\n",
        "    enc_out, enc_h, enc_c = encoder(inputs, enc_start_state)\r\n",
        "\r\n",
        "    start_tokens = tf.fill([inference_batch_size],\r\n",
        "                           targ_lang.word_index['<start>'])\r\n",
        "    end_token = targ_lang.word_index['<end>']\r\n",
        "\r\n",
        "    greedy_sampler = tfa.seq2seq.GreedyEmbeddingSampler()\r\n",
        "\r\n",
        "    # Instantiate BasicDecoder object\r\n",
        "    decoder_instance = tfa.seq2seq.BasicDecoder(\r\n",
        "        cell=decoder.rnn_cell,\r\n",
        "        sampler=greedy_sampler, \r\n",
        "        output_layer=decoder.fc,\r\n",
        "        maximum_iterations=max_length_output\r\n",
        "    )\r\n",
        "\r\n",
        "    # Setup Memory in decoder stack\r\n",
        "    decoder.attention_mechanism.setup_memory(enc_out)\r\n",
        "\r\n",
        "    decoder_initial_state = decoder.build_initial_state(\r\n",
        "            inference_batch_size, \r\n",
        "            [enc_h, enc_c], \r\n",
        "            tf.float32\r\n",
        "    )\r\n",
        "\r\n",
        "    if len(decoder.embedding.variables) == 0:\r\n",
        "        raise ValueError(\"Decoder might have not been trained. \" \\\r\n",
        "                         + \"Embedding variables are not initialized\" \\\r\n",
        "                         + \"and are empty.\")\r\n",
        "\r\n",
        "    decoder_embedding_vector = decoder.embedding.variables[0]\r\n",
        "\r\n",
        "    outputs, _, _ = decoder_instance(decoder_embedding_vector, \r\n",
        "                                        start_tokens=start_tokens, \r\n",
        "                                        end_token=end_token, \r\n",
        "                                        initial_state=decoder_initial_state,\r\n",
        "                                    )\r\n",
        "    return outputs.sample_id.numpy(), sentence"
      ],
      "execution_count": null,
      "outputs": []
    },
    {
      "cell_type": "code",
      "metadata": {
        "id": "oGgZ0w0Mo11b"
      },
      "source": [
        "class TextGANMonitor(tf.keras.callbacks.Callback):\r\n",
        "    def __init__(self, gan, filepath=None, prefix=None, **kwargs):\r\n",
        "        super(TextGANMonitor, self).__init__(**kwargs)\r\n",
        "        self.gan = gan\r\n",
        "        if filepath is None:\r\n",
        "            filepath = \"results_{}.txt\".format(date.today())\r\n",
        "        if prefix is None:\r\n",
        "            prefix = '_'\r\n",
        "        self.filepath = filepath\r\n",
        "        self.prefix = prefix\r\n",
        "\r\n",
        "    def on_epoch_end(self, epoch, logs=None):\r\n",
        "        ip, tg = next(iter(train_data))\r\n",
        "        \r\n",
        "        q = ' '.join(inp_lang.index_word[idx] for idx in ip[0].numpy() \\\r\n",
        "                     if idx > 0)\r\n",
        "        \r\n",
        "        generator_predict(\r\n",
        "            self.gan.generator.encoder,\r\n",
        "            self.gan.generator.decoder,\r\n",
        "            q,\r\n",
        "            inp_lang, \r\n",
        "            targ_lang, \r\n",
        "            max_length_input,\r\n",
        "            mode='save',\r\n",
        "            filepath=self.filepath,\r\n",
        "            prefix='{}_epoch_{}'.format(self.prefix, epoch)\r\n",
        "        )\r\n",
        "\r\n",
        "gan_monitor = TextGANMonitor(text_gan)"
      ],
      "execution_count": null,
      "outputs": []
    },
    {
      "cell_type": "code",
      "metadata": {
        "colab": {
          "base_uri": "https://localhost:8080/"
        },
        "id": "RvYxznChx2GH",
        "outputId": "14391bb1-1554-4f9c-8847-b6f26b1d3141"
      },
      "source": [
        "ip, tg = next(iter(train_data))\r\n",
        "q = ' '.join(inp_lang.index_word[idx] for idx in ip[0].numpy() \\\r\n",
        "                     if idx > 0)\r\n",
        "\r\n",
        "generator_predict(encoder, decoder, q, inp_lang, targ_lang, max_length_input, mode='save', filepath='test.txt', prefix='0')"
      ],
      "execution_count": null,
      "outputs": [
        {
          "output_type": "stream",
          "text": [
            "Results saved to test.txt\n"
          ],
          "name": "stdout"
        }
      ]
    },
    {
      "cell_type": "code",
      "metadata": {
        "id": "XNX1w_O5o1RG"
      },
      "source": [
        "text_gan.compile(\r\n",
        "    g_opts=generator_optimizer,\r\n",
        "    d_opts=discriminator_optimizer,\r\n",
        "    g_loss_fn=generator_loss,\r\n",
        "    d_loss_fn=discriminator_loss\r\n",
        ")"
      ],
      "execution_count": null,
      "outputs": []
    },
    {
      "cell_type": "code",
      "metadata": {
        "colab": {
          "base_uri": "https://localhost:8080/"
        },
        "id": "LRSX2bqpp2Zy",
        "outputId": "5c9b2bd3-118d-4f95-cbbf-07495a87cc2c"
      },
      "source": [
        "text_gan_history=text_gan.fit(\r\n",
        "    train_data,\r\n",
        "    epochs=50,\r\n",
        "    callbacks=[gan_monitor]\r\n",
        ")"
      ],
      "execution_count": null,
      "outputs": [
        {
          "output_type": "stream",
          "text": [
            "Epoch 1/50\n",
            "11/11 [==============================] - 155s 14s/step - gen_loss: 0.7439 - disc_loss: 1.4800\n",
            "Results saved to results_2021-03-07.txt\n",
            "Epoch 2/50\n",
            "11/11 [==============================] - 161s 15s/step - gen_loss: 0.7357 - disc_loss: 1.4696\n",
            "Results saved to results_2021-03-07.txt\n",
            "Epoch 3/50\n",
            "11/11 [==============================] - 158s 14s/step - gen_loss: 0.7256 - disc_loss: 1.4482\n",
            "Results saved to results_2021-03-07.txt\n",
            "Epoch 4/50\n",
            "11/11 [==============================] - 158s 14s/step - gen_loss: 0.7262 - disc_loss: 1.4575\n",
            "Results saved to results_2021-03-07.txt\n",
            "Epoch 5/50\n",
            "11/11 [==============================] - 158s 14s/step - gen_loss: 0.7165 - disc_loss: 1.4389\n",
            "Results saved to results_2021-03-07.txt\n",
            "Epoch 6/50\n",
            "11/11 [==============================] - 159s 15s/step - gen_loss: 0.7258 - disc_loss: 1.4438\n",
            "Results saved to results_2021-03-07.txt\n",
            "Epoch 7/50\n",
            "11/11 [==============================] - 155s 14s/step - gen_loss: 0.7180 - disc_loss: 1.4353\n",
            "Results saved to results_2021-03-07.txt\n",
            "Epoch 8/50\n",
            "11/11 [==============================] - 159s 14s/step - gen_loss: 0.7191 - disc_loss: 1.4405\n",
            "Results saved to results_2021-03-07.txt\n",
            "Epoch 9/50\n",
            "11/11 [==============================] - 160s 14s/step - gen_loss: 0.7196 - disc_loss: 1.4362\n",
            "Results saved to results_2021-03-07.txt\n",
            "Epoch 10/50\n",
            "11/11 [==============================] - 158s 14s/step - gen_loss: 0.7129 - disc_loss: 1.4245\n",
            "Results saved to results_2021-03-07.txt\n",
            "Epoch 11/50\n",
            "11/11 [==============================] - 159s 14s/step - gen_loss: 0.7095 - disc_loss: 1.4198\n",
            "Results saved to results_2021-03-07.txt\n",
            "Epoch 12/50\n",
            "11/11 [==============================] - 158s 14s/step - gen_loss: 0.7111 - disc_loss: 1.4205\n",
            "Results saved to results_2021-03-07.txt\n",
            "Epoch 13/50\n",
            "11/11 [==============================] - 157s 14s/step - gen_loss: 0.7105 - disc_loss: 1.4219\n",
            "Results saved to results_2021-03-07.txt\n",
            "Epoch 14/50\n",
            "11/11 [==============================] - 160s 15s/step - gen_loss: 0.7132 - disc_loss: 1.4225\n",
            "Results saved to results_2021-03-07.txt\n",
            "Epoch 15/50\n",
            "11/11 [==============================] - 160s 15s/step - gen_loss: 0.7104 - disc_loss: 1.4172\n",
            "Results saved to results_2021-03-07.txt\n",
            "Epoch 16/50\n",
            "11/11 [==============================] - 160s 14s/step - gen_loss: 0.7105 - disc_loss: 1.4168\n",
            "Results saved to results_2021-03-07.txt\n",
            "Epoch 17/50\n",
            "11/11 [==============================] - 158s 14s/step - gen_loss: 0.7085 - disc_loss: 1.4146\n",
            "Results saved to results_2021-03-07.txt\n",
            "Epoch 18/50\n",
            "11/11 [==============================] - 159s 14s/step - gen_loss: 0.7082 - disc_loss: 1.4152\n",
            "Results saved to results_2021-03-07.txt\n",
            "Epoch 19/50\n",
            "11/11 [==============================] - 161s 15s/step - gen_loss: 0.7091 - disc_loss: 1.4133\n",
            "Results saved to results_2021-03-07.txt\n",
            "Epoch 20/50\n",
            "11/11 [==============================] - 162s 15s/step - gen_loss: 0.7031 - disc_loss: 1.4060\n",
            "Results saved to results_2021-03-07.txt\n",
            "Epoch 21/50\n",
            "11/11 [==============================] - 162s 15s/step - gen_loss: 0.7023 - disc_loss: 1.4040\n",
            "Results saved to results_2021-03-07.txt\n",
            "Epoch 22/50\n",
            "11/11 [==============================] - 165s 15s/step - gen_loss: 0.7049 - disc_loss: 1.4079\n",
            "Results saved to results_2021-03-07.txt\n",
            "Epoch 23/50\n",
            "11/11 [==============================] - 159s 14s/step - gen_loss: 0.7024 - disc_loss: 1.4085\n",
            "Results saved to results_2021-03-07.txt\n",
            "Epoch 24/50\n",
            "11/11 [==============================] - 158s 14s/step - gen_loss: 0.7041 - disc_loss: 1.4081\n",
            "Results saved to results_2021-03-07.txt\n",
            "Epoch 25/50\n",
            "11/11 [==============================] - 161s 15s/step - gen_loss: 0.7033 - disc_loss: 1.4053\n",
            "Results saved to results_2021-03-07.txt\n",
            "Epoch 26/50\n",
            "11/11 [==============================] - 162s 15s/step - gen_loss: 0.7025 - disc_loss: 1.4067\n",
            "Results saved to results_2021-03-07.txt\n",
            "Epoch 27/50\n",
            "11/11 [==============================] - 161s 15s/step - gen_loss: 0.7029 - disc_loss: 1.4035\n",
            "Results saved to results_2021-03-07.txt\n",
            "Epoch 28/50\n",
            "11/11 [==============================] - 160s 15s/step - gen_loss: 0.7022 - disc_loss: 1.4030\n",
            "Results saved to results_2021-03-07.txt\n",
            "Epoch 29/50\n",
            "11/11 [==============================] - 163s 15s/step - gen_loss: 0.7030 - disc_loss: 1.4044\n",
            "Results saved to results_2021-03-07.txt\n",
            "Epoch 30/50\n",
            "11/11 [==============================] - 160s 15s/step - gen_loss: 0.6998 - disc_loss: 1.4028\n",
            "Results saved to results_2021-03-07.txt\n",
            "Epoch 31/50\n",
            "11/11 [==============================] - 160s 15s/step - gen_loss: 0.7035 - disc_loss: 1.4036\n",
            "Results saved to results_2021-03-07.txt\n",
            "Epoch 32/50\n",
            "11/11 [==============================] - 161s 15s/step - gen_loss: 0.7024 - disc_loss: 1.4022\n",
            "Results saved to results_2021-03-07.txt\n",
            "Epoch 33/50\n",
            "11/11 [==============================] - 161s 15s/step - gen_loss: 0.7003 - disc_loss: 1.4006\n",
            "Results saved to results_2021-03-07.txt\n",
            "Epoch 34/50\n",
            "11/11 [==============================] - 165s 15s/step - gen_loss: 0.6997 - disc_loss: 1.3997\n",
            "Results saved to results_2021-03-07.txt\n",
            "Epoch 35/50\n",
            "11/11 [==============================] - 165s 15s/step - gen_loss: 0.6994 - disc_loss: 1.4006\n",
            "Results saved to results_2021-03-07.txt\n",
            "Epoch 36/50\n",
            "11/11 [==============================] - 164s 15s/step - gen_loss: 0.7010 - disc_loss: 1.4016\n",
            "Results saved to results_2021-03-07.txt\n",
            "Epoch 37/50\n",
            "11/11 [==============================] - 167s 15s/step - gen_loss: 0.6992 - disc_loss: 1.3993\n",
            "Results saved to results_2021-03-07.txt\n",
            "Epoch 38/50\n",
            "11/11 [==============================] - 162s 15s/step - gen_loss: 0.6999 - disc_loss: 1.3988\n",
            "Results saved to results_2021-03-07.txt\n",
            "Epoch 39/50\n",
            "11/11 [==============================] - 166s 15s/step - gen_loss: 0.6994 - disc_loss: 1.3997\n",
            "Results saved to results_2021-03-07.txt\n",
            "Epoch 40/50\n",
            "11/11 [==============================] - 162s 15s/step - gen_loss: 0.6982 - disc_loss: 1.3969\n",
            "Results saved to results_2021-03-07.txt\n",
            "Epoch 41/50\n",
            "11/11 [==============================] - 162s 15s/step - gen_loss: 0.6993 - disc_loss: 1.3978\n",
            "Results saved to results_2021-03-07.txt\n",
            "Epoch 42/50\n",
            "11/11 [==============================] - 158s 14s/step - gen_loss: 0.6999 - disc_loss: 1.3990\n",
            "Results saved to results_2021-03-07.txt\n",
            "Epoch 43/50\n",
            "11/11 [==============================] - 159s 14s/step - gen_loss: 0.6978 - disc_loss: 1.3964\n",
            "Results saved to results_2021-03-07.txt\n",
            "Epoch 44/50\n",
            "11/11 [==============================] - 158s 14s/step - gen_loss: 0.6993 - disc_loss: 1.3969\n",
            "Results saved to results_2021-03-07.txt\n",
            "Epoch 45/50\n",
            "11/11 [==============================] - 162s 15s/step - gen_loss: 0.6973 - disc_loss: 1.3942\n",
            "Results saved to results_2021-03-07.txt\n",
            "Epoch 46/50\n",
            "11/11 [==============================] - 155s 14s/step - gen_loss: 0.6976 - disc_loss: 1.3948\n",
            "Results saved to results_2021-03-07.txt\n",
            "Epoch 47/50\n",
            "11/11 [==============================] - 160s 15s/step - gen_loss: 0.6987 - disc_loss: 1.3969\n",
            "Results saved to results_2021-03-07.txt\n",
            "Epoch 48/50\n",
            "11/11 [==============================] - 158s 14s/step - gen_loss: 0.6977 - disc_loss: 1.3952\n",
            "Results saved to results_2021-03-07.txt\n",
            "Epoch 49/50\n",
            "11/11 [==============================] - 160s 15s/step - gen_loss: 0.6976 - disc_loss: 1.3948\n",
            "Results saved to results_2021-03-07.txt\n",
            "Epoch 50/50\n",
            "11/11 [==============================] - 158s 14s/step - gen_loss: 0.6980 - disc_loss: 1.3960\n",
            "Results saved to results_2021-03-07.txt\n"
          ],
          "name": "stdout"
        }
      ]
    },
    {
      "cell_type": "code",
      "metadata": {
        "colab": {
          "base_uri": "https://localhost:8080/",
          "height": 343
        },
        "id": "RteYo0mjxAJ1",
        "outputId": "824c7ece-4e6e-4083-8773-41db9ae48b3e"
      },
      "source": [
        "visualize_gan_loss(text_gan_history)"
      ],
      "execution_count": null,
      "outputs": [
        {
          "output_type": "display_data",
          "data": {
            "image/png": "[encoded data removed]",
            "text/plain": [
              "<Figure size 864x324 with 2 Axes>"
            ]
          },
          "metadata": {
            "tags": [],
            "needs_background": "light"
          }
        }
      ]
    },
    {
      "cell_type": "code",
      "metadata": {
        "id": "IWOKLbF1qBq1"
      },
      "source": [
        ""
      ],
      "execution_count": null,
      "outputs": []
    },
    {
      "cell_type": "markdown",
      "metadata": {
        "id": "UpxnSk-s7zB4"
      },
      "source": [
        "## Minimax Loss Functions"
      ]
    },
    {
      "cell_type": "code",
      "metadata": {
        "id": "3LF2YR3E7yfB"
      },
      "source": [
        "def minimax_generator_loss()"
      ],
      "execution_count": null,
      "outputs": []
    },
    {
      "cell_type": "markdown",
      "metadata": {
        "id": "poUpwauJoaGg"
      },
      "source": [
        "##WGAN"
      ]
    },
    {
      "cell_type": "code",
      "metadata": {
        "id": "Ya5IJIxDwvBa"
      },
      "source": [
        "class WGAN(tf.keras.Model):\r\n",
        "    def __init__(self, generator, discriminator, d_extra_steps, **kwargs):\r\n",
        "        super(WGAN, self).__init__(**kwargs)\r\n",
        "        self.generator = generator\r\n",
        "        self.discriminator = discriminator\r\n",
        "        self.d_extra_steps = d_extra_steps\r\n",
        "    \r\n",
        "    def compile(self, g_opts, d_opts, g_loss_fn, d_loss_fn):\r\n",
        "        super(WGAN, self).compile()\r\n",
        "        self.g_opts = g_opts\r\n",
        "        self.d_opts = d_opts\r\n",
        "        self.g_loss_fn = g_loss_fn\r\n",
        "        self.d_loss_fn = d_loss_fn\r\n",
        "    \r\n",
        "    def train_step(self, inputs):\r\n",
        "        inp, targ = inputs\r\n",
        "\r\n",
        "        with t"
      ],
      "execution_count": null,
      "outputs": []
    },
    {
      "cell_type": "code",
      "metadata": {
        "id": "KpqpBmuvvsNi"
      },
      "source": [
        "wgan_discriminator = get_discriminator(\r\n",
        "    Encoder(vocab_inp_size, latent_dim, latent_dim, batch_size),\r\n",
        "    ques_shape=(None,),\r\n",
        "    ans_shape=dec_sample_out.rnn_output.shape[1:],\r\n",
        "    latent_dim=latent_dim,\r\n",
        "    is_critic=True\r\n",
        ")"
      ],
      "execution_count": null,
      "outputs": []
    },
    {
      "cell_type": "code",
      "metadata": {
        "id": "g_L1A5ZQ0VmQ"
      },
      "source": [
        "wgan = TextGAN(generator, wgan_discriminator, vocab_tar_size)"
      ],
      "execution_count": null,
      "outputs": []
    },
    {
      "cell_type": "code",
      "metadata": {
        "id": "m3EFibZ5wEkJ"
      },
      "source": [
        "def wgan_discriminator_loss(real_img, fake_img):\r\n",
        "    real_loss = tf.math.reduce_mean(real_img)\r\n",
        "    fake_loss = tf.math.reduce_mean(fake_img)\r\n",
        "    return fake_loss - real_loss\r\n",
        "\r\n",
        "def wgan_generator_loss(fake_img):\r\n",
        "    return -tf.math.reduce_mean(fake_img)\r\n",
        "\r\n",
        "wgan.compile(\r\n",
        "    tf.keras.optimizers.Adam(learning_rate=0.0002, beta_1=0.5, beta_2=0.9),\r\n",
        "    tf.keras.optimizers.Adam(learning_rate=0.0002, beta_1=0.5, beta_2=0.9),\r\n",
        "    wgan_generator_loss,\r\n",
        "    wgan_discriminator_loss\r\n",
        ")"
      ],
      "execution_count": null,
      "outputs": []
    },
    {
      "cell_type": "code",
      "metadata": {
        "colab": {
          "base_uri": "https://localhost:8080/",
          "height": 595
        },
        "id": "5vscQkg0wOFQ",
        "outputId": "2287d288-0724-4e64-addd-3f9753303556"
      },
      "source": [
        "wgan_history = wgan.fit(\r\n",
        "    train_data,\r\n",
        "    epochs=20\r\n",
        ")"
      ],
      "execution_count": null,
      "outputs": [
        {
          "output_type": "stream",
          "text": [
            "Epoch 1/20\n",
            "11/11 [==============================] - 190s 14s/step - gen_loss: -2.8425e-09 - disc_loss: -4.3559e-09\n",
            "Epoch 2/20\n",
            "11/11 [==============================] - 160s 15s/step - gen_loss: 8.1491e-10 - disc_loss: -1.3679e-09\n",
            "Epoch 3/20\n",
            "11/11 [==============================] - 163s 15s/step - gen_loss: -3.3954e-10 - disc_loss: -1.0962e-09\n",
            "Epoch 4/20\n",
            "11/11 [==============================] - 162s 15s/step - gen_loss: 6.7909e-11 - disc_loss: 2.9104e-11\n",
            "Epoch 5/20\n",
            "11/11 [==============================] - 161s 15s/step - gen_loss: 1.4552e-10 - disc_loss: 8.7311e-11\n",
            "Epoch 6/20\n",
            " 3/11 [=======>......................] - ETA: 1:54 - gen_loss: 9.3132e-10 - disc_loss: -2.4835e-09"
          ],
          "name": "stdout"
        },
        {
          "output_type": "error",
          "ename": "KeyboardInterrupt",
          "evalue": "ignored",
          "traceback": [
            "\u001b[0;31m---------------------------------------------------------------------------\u001b[0m",
            "\u001b[0;31mKeyboardInterrupt\u001b[0m                         Traceback (most recent call last)",
            "\u001b[0;32m<ipython-input-77-238ff80138c0>\u001b[0m in \u001b[0;36m<module>\u001b[0;34m()\u001b[0m\n\u001b[1;32m      1\u001b[0m wgan_history = wgan.fit(\n\u001b[1;32m      2\u001b[0m     \u001b[0mtrain_data\u001b[0m\u001b[0;34m,\u001b[0m\u001b[0;34m\u001b[0m\u001b[0;34m\u001b[0m\u001b[0m\n\u001b[0;32m----> 3\u001b[0;31m     \u001b[0mepochs\u001b[0m\u001b[0;34m=\u001b[0m\u001b[0;36m20\u001b[0m\u001b[0;34m\u001b[0m\u001b[0;34m\u001b[0m\u001b[0m\n\u001b[0m\u001b[1;32m      4\u001b[0m )\n",
            "\u001b[0;32m/usr/local/lib/python3.7/dist-packages/tensorflow/python/keras/engine/training.py\u001b[0m in \u001b[0;36mfit\u001b[0;34m(self, x, y, batch_size, epochs, verbose, callbacks, validation_split, validation_data, shuffle, class_weight, sample_weight, initial_epoch, steps_per_epoch, validation_steps, validation_batch_size, validation_freq, max_queue_size, workers, use_multiprocessing)\u001b[0m\n\u001b[1;32m   1098\u001b[0m                 _r=1):\n\u001b[1;32m   1099\u001b[0m               \u001b[0mcallbacks\u001b[0m\u001b[0;34m.\u001b[0m\u001b[0mon_train_batch_begin\u001b[0m\u001b[0;34m(\u001b[0m\u001b[0mstep\u001b[0m\u001b[0;34m)\u001b[0m\u001b[0;34m\u001b[0m\u001b[0;34m\u001b[0m\u001b[0m\n\u001b[0;32m-> 1100\u001b[0;31m               \u001b[0mtmp_logs\u001b[0m \u001b[0;34m=\u001b[0m \u001b[0mself\u001b[0m\u001b[0;34m.\u001b[0m\u001b[0mtrain_function\u001b[0m\u001b[0;34m(\u001b[0m\u001b[0miterator\u001b[0m\u001b[0;34m)\u001b[0m\u001b[0;34m\u001b[0m\u001b[0;34m\u001b[0m\u001b[0m\n\u001b[0m\u001b[1;32m   1101\u001b[0m               \u001b[0;32mif\u001b[0m \u001b[0mdata_handler\u001b[0m\u001b[0;34m.\u001b[0m\u001b[0mshould_sync\u001b[0m\u001b[0;34m:\u001b[0m\u001b[0;34m\u001b[0m\u001b[0;34m\u001b[0m\u001b[0m\n\u001b[1;32m   1102\u001b[0m                 \u001b[0mcontext\u001b[0m\u001b[0;34m.\u001b[0m\u001b[0masync_wait\u001b[0m\u001b[0;34m(\u001b[0m\u001b[0;34m)\u001b[0m\u001b[0;34m\u001b[0m\u001b[0;34m\u001b[0m\u001b[0m\n",
            "\u001b[0;32m/usr/local/lib/python3.7/dist-packages/tensorflow/python/eager/def_function.py\u001b[0m in \u001b[0;36m__call__\u001b[0;34m(self, *args, **kwds)\u001b[0m\n\u001b[1;32m    826\u001b[0m     \u001b[0mtracing_count\u001b[0m \u001b[0;34m=\u001b[0m \u001b[0mself\u001b[0m\u001b[0;34m.\u001b[0m\u001b[0mexperimental_get_tracing_count\u001b[0m\u001b[0;34m(\u001b[0m\u001b[0;34m)\u001b[0m\u001b[0;34m\u001b[0m\u001b[0;34m\u001b[0m\u001b[0m\n\u001b[1;32m    827\u001b[0m     \u001b[0;32mwith\u001b[0m \u001b[0mtrace\u001b[0m\u001b[0;34m.\u001b[0m\u001b[0mTrace\u001b[0m\u001b[0;34m(\u001b[0m\u001b[0mself\u001b[0m\u001b[0;34m.\u001b[0m\u001b[0m_name\u001b[0m\u001b[0;34m)\u001b[0m \u001b[0;32mas\u001b[0m \u001b[0mtm\u001b[0m\u001b[0;34m:\u001b[0m\u001b[0;34m\u001b[0m\u001b[0;34m\u001b[0m\u001b[0m\n\u001b[0;32m--> 828\u001b[0;31m       \u001b[0mresult\u001b[0m \u001b[0;34m=\u001b[0m \u001b[0mself\u001b[0m\u001b[0;34m.\u001b[0m\u001b[0m_call\u001b[0m\u001b[0;34m(\u001b[0m\u001b[0;34m*\u001b[0m\u001b[0margs\u001b[0m\u001b[0;34m,\u001b[0m \u001b[0;34m**\u001b[0m\u001b[0mkwds\u001b[0m\u001b[0;34m)\u001b[0m\u001b[0;34m\u001b[0m\u001b[0;34m\u001b[0m\u001b[0m\n\u001b[0m\u001b[1;32m    829\u001b[0m       \u001b[0mcompiler\u001b[0m \u001b[0;34m=\u001b[0m \u001b[0;34m\"xla\"\u001b[0m \u001b[0;32mif\u001b[0m \u001b[0mself\u001b[0m\u001b[0;34m.\u001b[0m\u001b[0m_experimental_compile\u001b[0m \u001b[0;32melse\u001b[0m \u001b[0;34m\"nonXla\"\u001b[0m\u001b[0;34m\u001b[0m\u001b[0;34m\u001b[0m\u001b[0m\n\u001b[1;32m    830\u001b[0m       \u001b[0mnew_tracing_count\u001b[0m \u001b[0;34m=\u001b[0m \u001b[0mself\u001b[0m\u001b[0;34m.\u001b[0m\u001b[0mexperimental_get_tracing_count\u001b[0m\u001b[0;34m(\u001b[0m\u001b[0;34m)\u001b[0m\u001b[0;34m\u001b[0m\u001b[0;34m\u001b[0m\u001b[0m\n",
            "\u001b[0;32m/usr/local/lib/python3.7/dist-packages/tensorflow/python/eager/def_function.py\u001b[0m in \u001b[0;36m_call\u001b[0;34m(self, *args, **kwds)\u001b[0m\n\u001b[1;32m    853\u001b[0m       \u001b[0;31m# In this case we have created variables on the first call, so we run the\u001b[0m\u001b[0;34m\u001b[0m\u001b[0;34m\u001b[0m\u001b[0;34m\u001b[0m\u001b[0m\n\u001b[1;32m    854\u001b[0m       \u001b[0;31m# defunned version which is guaranteed to never create variables.\u001b[0m\u001b[0;34m\u001b[0m\u001b[0;34m\u001b[0m\u001b[0;34m\u001b[0m\u001b[0m\n\u001b[0;32m--> 855\u001b[0;31m       \u001b[0;32mreturn\u001b[0m \u001b[0mself\u001b[0m\u001b[0;34m.\u001b[0m\u001b[0m_stateless_fn\u001b[0m\u001b[0;34m(\u001b[0m\u001b[0;34m*\u001b[0m\u001b[0margs\u001b[0m\u001b[0;34m,\u001b[0m \u001b[0;34m**\u001b[0m\u001b[0mkwds\u001b[0m\u001b[0;34m)\u001b[0m  \u001b[0;31m# pylint: disable=not-callable\u001b[0m\u001b[0;34m\u001b[0m\u001b[0;34m\u001b[0m\u001b[0m\n\u001b[0m\u001b[1;32m    856\u001b[0m     \u001b[0;32melif\u001b[0m \u001b[0mself\u001b[0m\u001b[0;34m.\u001b[0m\u001b[0m_stateful_fn\u001b[0m \u001b[0;32mis\u001b[0m \u001b[0;32mnot\u001b[0m \u001b[0;32mNone\u001b[0m\u001b[0;34m:\u001b[0m\u001b[0;34m\u001b[0m\u001b[0;34m\u001b[0m\u001b[0m\n\u001b[1;32m    857\u001b[0m       \u001b[0;31m# Release the lock early so that multiple threads can perform the call\u001b[0m\u001b[0;34m\u001b[0m\u001b[0;34m\u001b[0m\u001b[0;34m\u001b[0m\u001b[0m\n",
            "\u001b[0;32m/usr/local/lib/python3.7/dist-packages/tensorflow/python/eager/function.py\u001b[0m in \u001b[0;36m__call__\u001b[0;34m(self, *args, **kwargs)\u001b[0m\n\u001b[1;32m   2941\u001b[0m        filtered_flat_args) = self._maybe_define_function(args, kwargs)\n\u001b[1;32m   2942\u001b[0m     return graph_function._call_flat(\n\u001b[0;32m-> 2943\u001b[0;31m         filtered_flat_args, captured_inputs=graph_function.captured_inputs)  # pylint: disable=protected-access\n\u001b[0m\u001b[1;32m   2944\u001b[0m \u001b[0;34m\u001b[0m\u001b[0m\n\u001b[1;32m   2945\u001b[0m   \u001b[0;34m@\u001b[0m\u001b[0mproperty\u001b[0m\u001b[0;34m\u001b[0m\u001b[0;34m\u001b[0m\u001b[0m\n",
            "\u001b[0;32m/usr/local/lib/python3.7/dist-packages/tensorflow/python/eager/function.py\u001b[0m in \u001b[0;36m_call_flat\u001b[0;34m(self, args, captured_inputs, cancellation_manager)\u001b[0m\n\u001b[1;32m   1917\u001b[0m       \u001b[0;31m# No tape is watching; skip to running the function.\u001b[0m\u001b[0;34m\u001b[0m\u001b[0;34m\u001b[0m\u001b[0;34m\u001b[0m\u001b[0m\n\u001b[1;32m   1918\u001b[0m       return self._build_call_outputs(self._inference_function.call(\n\u001b[0;32m-> 1919\u001b[0;31m           ctx, args, cancellation_manager=cancellation_manager))\n\u001b[0m\u001b[1;32m   1920\u001b[0m     forward_backward = self._select_forward_and_backward_functions(\n\u001b[1;32m   1921\u001b[0m         \u001b[0margs\u001b[0m\u001b[0;34m,\u001b[0m\u001b[0;34m\u001b[0m\u001b[0;34m\u001b[0m\u001b[0m\n",
            "\u001b[0;32m/usr/local/lib/python3.7/dist-packages/tensorflow/python/eager/function.py\u001b[0m in \u001b[0;36mcall\u001b[0;34m(self, ctx, args, cancellation_manager)\u001b[0m\n\u001b[1;32m    558\u001b[0m               \u001b[0minputs\u001b[0m\u001b[0;34m=\u001b[0m\u001b[0margs\u001b[0m\u001b[0;34m,\u001b[0m\u001b[0;34m\u001b[0m\u001b[0;34m\u001b[0m\u001b[0m\n\u001b[1;32m    559\u001b[0m               \u001b[0mattrs\u001b[0m\u001b[0;34m=\u001b[0m\u001b[0mattrs\u001b[0m\u001b[0;34m,\u001b[0m\u001b[0;34m\u001b[0m\u001b[0;34m\u001b[0m\u001b[0m\n\u001b[0;32m--> 560\u001b[0;31m               ctx=ctx)\n\u001b[0m\u001b[1;32m    561\u001b[0m         \u001b[0;32melse\u001b[0m\u001b[0;34m:\u001b[0m\u001b[0;34m\u001b[0m\u001b[0;34m\u001b[0m\u001b[0m\n\u001b[1;32m    562\u001b[0m           outputs = execute.execute_with_cancellation(\n",
            "\u001b[0;32m/usr/local/lib/python3.7/dist-packages/tensorflow/python/eager/execute.py\u001b[0m in \u001b[0;36mquick_execute\u001b[0;34m(op_name, num_outputs, inputs, attrs, ctx, name)\u001b[0m\n\u001b[1;32m     58\u001b[0m     \u001b[0mctx\u001b[0m\u001b[0;34m.\u001b[0m\u001b[0mensure_initialized\u001b[0m\u001b[0;34m(\u001b[0m\u001b[0;34m)\u001b[0m\u001b[0;34m\u001b[0m\u001b[0;34m\u001b[0m\u001b[0m\n\u001b[1;32m     59\u001b[0m     tensors = pywrap_tfe.TFE_Py_Execute(ctx._handle, device_name, op_name,\n\u001b[0;32m---> 60\u001b[0;31m                                         inputs, attrs, num_outputs)\n\u001b[0m\u001b[1;32m     61\u001b[0m   \u001b[0;32mexcept\u001b[0m \u001b[0mcore\u001b[0m\u001b[0;34m.\u001b[0m\u001b[0m_NotOkStatusException\u001b[0m \u001b[0;32mas\u001b[0m \u001b[0me\u001b[0m\u001b[0;34m:\u001b[0m\u001b[0;34m\u001b[0m\u001b[0;34m\u001b[0m\u001b[0m\n\u001b[1;32m     62\u001b[0m     \u001b[0;32mif\u001b[0m \u001b[0mname\u001b[0m \u001b[0;32mis\u001b[0m \u001b[0;32mnot\u001b[0m \u001b[0;32mNone\u001b[0m\u001b[0;34m:\u001b[0m\u001b[0;34m\u001b[0m\u001b[0;34m\u001b[0m\u001b[0m\n",
            "\u001b[0;31mKeyboardInterrupt\u001b[0m: "
          ]
        }
      ]
    },
    {
      "cell_type": "code",
      "metadata": {
        "id": "XajT_DERwWg9"
      },
      "source": [
        "visualize_gan_loss(wgan_history)"
      ],
      "execution_count": null,
      "outputs": []
    },
    {
      "cell_type": "code",
      "metadata": {
        "id": "irFrXDEwwXJO"
      },
      "source": [
        ""
      ],
      "execution_count": null,
      "outputs": []
    }
  ]
}